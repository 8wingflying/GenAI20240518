{
  "cells": [
    {
      "cell_type": "markdown",
      "metadata": {
        "id": "TFQ17AmL0Yd0"
      },
      "source": [
        "## OpenAI Programming_1\n",
        "\n",
        "### 資料來源  \n",
        "- 最強 AI 投資分析：打造自己的股市顧問機器人，股票趨勢分析×年報解讀×選股推薦×風險管理\n",
        "- 施威銘研究室\n",
        "- CH-02 從零開始的 OpenAI API\n",
        "-"
      ]
    },
    {
      "cell_type": "markdown",
      "metadata": {
        "id": "a42M4mg1qNQ5"
      },
      "source": [
        "## 2-3 建構自己的 AI 機器人"
      ]
    },
    {
      "cell_type": "markdown",
      "metadata": {
        "id": "rwGTl75BLNwu"
      },
      "source": [
        "### 1️⃣ 使用 OpenAI API 官方套件\n",
        "\n",
        "OpenAI 官方提供有 openai 套件, 可以簡化使用上的複雜度。"
      ]
    },
    {
      "cell_type": "code",
      "execution_count": 1,
      "metadata": {
        "colab": {
          "base_uri": "https://localhost:8080/"
        },
        "id": "V9x1F86C4T9u",
        "outputId": "06c0dfca-1c56-47df-b36a-9bb70fcd0bc5"
      },
      "outputs": [
        {
          "output_type": "stream",
          "name": "stdout",
          "text": [
            "Collecting openai\n",
            "  Downloading openai-1.27.0-py3-none-any.whl (314 kB)\n",
            "\u001b[2K     \u001b[90m━━━━━━━━━━━━━━━━━━━━━━━━━━━━━━━━━━━━━━━━\u001b[0m \u001b[32m314.1/314.1 kB\u001b[0m \u001b[31m4.5 MB/s\u001b[0m eta \u001b[36m0:00:00\u001b[0m\n",
            "\u001b[?25hRequirement already satisfied: anyio<5,>=3.5.0 in /usr/local/lib/python3.10/dist-packages (from openai) (3.7.1)\n",
            "Requirement already satisfied: distro<2,>=1.7.0 in /usr/lib/python3/dist-packages (from openai) (1.7.0)\n",
            "Collecting httpx<1,>=0.23.0 (from openai)\n",
            "  Downloading httpx-0.27.0-py3-none-any.whl (75 kB)\n",
            "\u001b[2K     \u001b[90m━━━━━━━━━━━━━━━━━━━━━━━━━━━━━━━━━━━━━━━━\u001b[0m \u001b[32m75.6/75.6 kB\u001b[0m \u001b[31m6.4 MB/s\u001b[0m eta \u001b[36m0:00:00\u001b[0m\n",
            "\u001b[?25hRequirement already satisfied: pydantic<3,>=1.9.0 in /usr/local/lib/python3.10/dist-packages (from openai) (2.7.1)\n",
            "Requirement already satisfied: sniffio in /usr/local/lib/python3.10/dist-packages (from openai) (1.3.1)\n",
            "Requirement already satisfied: tqdm>4 in /usr/local/lib/python3.10/dist-packages (from openai) (4.66.4)\n",
            "Requirement already satisfied: typing-extensions<5,>=4.7 in /usr/local/lib/python3.10/dist-packages (from openai) (4.11.0)\n",
            "Requirement already satisfied: idna>=2.8 in /usr/local/lib/python3.10/dist-packages (from anyio<5,>=3.5.0->openai) (3.7)\n",
            "Requirement already satisfied: exceptiongroup in /usr/local/lib/python3.10/dist-packages (from anyio<5,>=3.5.0->openai) (1.2.1)\n",
            "Requirement already satisfied: certifi in /usr/local/lib/python3.10/dist-packages (from httpx<1,>=0.23.0->openai) (2024.2.2)\n",
            "Collecting httpcore==1.* (from httpx<1,>=0.23.0->openai)\n",
            "  Downloading httpcore-1.0.5-py3-none-any.whl (77 kB)\n",
            "\u001b[2K     \u001b[90m━━━━━━━━━━━━━━━━━━━━━━━━━━━━━━━━━━━━━━━━\u001b[0m \u001b[32m77.9/77.9 kB\u001b[0m \u001b[31m4.4 MB/s\u001b[0m eta \u001b[36m0:00:00\u001b[0m\n",
            "\u001b[?25hCollecting h11<0.15,>=0.13 (from httpcore==1.*->httpx<1,>=0.23.0->openai)\n",
            "  Downloading h11-0.14.0-py3-none-any.whl (58 kB)\n",
            "\u001b[2K     \u001b[90m━━━━━━━━━━━━━━━━━━━━━━━━━━━━━━━━━━━━━━━━\u001b[0m \u001b[32m58.3/58.3 kB\u001b[0m \u001b[31m2.7 MB/s\u001b[0m eta \u001b[36m0:00:00\u001b[0m\n",
            "\u001b[?25hRequirement already satisfied: annotated-types>=0.4.0 in /usr/local/lib/python3.10/dist-packages (from pydantic<3,>=1.9.0->openai) (0.6.0)\n",
            "Requirement already satisfied: pydantic-core==2.18.2 in /usr/local/lib/python3.10/dist-packages (from pydantic<3,>=1.9.0->openai) (2.18.2)\n",
            "Installing collected packages: h11, httpcore, httpx, openai\n",
            "Successfully installed h11-0.14.0 httpcore-1.0.5 httpx-0.27.0 openai-1.27.0\n"
          ]
        }
      ],
      "source": [
        "!pip install openai"
      ]
    },
    {
      "cell_type": "markdown",
      "metadata": {
        "id": "wGukHBkyiQA2"
      },
      "source": [
        "### 2️⃣ 輸入 API KEY\n",
        "getpass 套件可以隱藏輸入值"
      ]
    },
    {
      "cell_type": "code",
      "execution_count": 2,
      "metadata": {
        "colab": {
          "base_uri": "https://localhost:8080/"
        },
        "id": "ZN8CnE789cPy",
        "outputId": "2224065e-c756-40cb-f519-d3cf687ae93d"
      },
      "outputs": [
        {
          "name": "stdout",
          "output_type": "stream",
          "text": [
            "請輸入金鑰：··········\n"
          ]
        }
      ],
      "source": [
        "from openai import OpenAI, OpenAIError # OpenAI 官方套件\n",
        "import getpass # 保密輸入套件\n",
        "api_key = getpass.getpass(\"請輸入金鑰：\")\n",
        "client = OpenAI(api_key = api_key) # 建立 OpenAI 物件"
      ]
    },
    {
      "cell_type": "markdown",
      "metadata": {
        "id": "pC1gzHDLiqhT"
      },
      "source": [
        "### 3️⃣ 建構模型並交談"
      ]
    },
    {
      "cell_type": "code",
      "execution_count": 9,
      "metadata": {
        "id": "OBkpRomPEXd1"
      },
      "outputs": [],
      "source": [
        "reply = client.chat.completions.create(\n",
        "    model = \"gpt-3.5-turbo\",\n",
        "    # model = \"gpt-4\",\n",
        "    messages = [\n",
        "        {\"role\":\"user\", \"content\": \"你住的地方很亮嗎？\"}\n",
        "    ]\n",
        ")"
      ]
    },
    {
      "cell_type": "markdown",
      "metadata": {
        "id": "pyelatvvLiIn"
      },
      "source": [
        "### 4️⃣ 檢視傳回物件"
      ]
    },
    {
      "cell_type": "code",
      "execution_count": 10,
      "metadata": {
        "colab": {
          "base_uri": "https://localhost:8080/"
        },
        "id": "aSjownHrGnde",
        "outputId": "ac431c37-0d51-4dd5-aa7a-6862b2fb73bb"
      },
      "outputs": [
        {
          "output_type": "stream",
          "name": "stdout",
          "text": [
            "ChatCompletion(id='chatcmpl-9MriqVT8F3EOWF0LX6OqHY4XeyCAZ', choices=[Choice(finish_reason='stop', index=0, logprobs=None, message=ChatCompletionMessage(content='我是一个语言模型AI，没有实际的住所。不过通常来说，人们喜欢住在明亮的地方，这样可以让居住环境更加舒适和宜居。明亮的居所通常会让人感到更加开朗和愉快。你觉得你住的地方很亮吗？', role='assistant', function_call=None, tool_calls=None))], created=1715236752, model='gpt-3.5-turbo-0125', object='chat.completion', system_fingerprint=None, usage=CompletionUsage(completion_tokens=108, prompt_tokens=21, total_tokens=129))\n"
          ]
        }
      ],
      "source": [
        "print(reply)"
      ]
    },
    {
      "cell_type": "markdown",
      "metadata": {
        "id": "MkoAWO2GjnlT"
      },
      "source": [
        "### 5️⃣ 檢視訊息內容"
      ]
    },
    {
      "cell_type": "code",
      "execution_count": 11,
      "metadata": {
        "colab": {
          "base_uri": "https://localhost:8080/"
        },
        "id": "oDHvn0VCGPzH",
        "outputId": "277d7f50-069c-48f0-9b58-a213f5ce09bb"
      },
      "outputs": [
        {
          "output_type": "stream",
          "name": "stdout",
          "text": [
            "我是一个语言模型AI，没有实际的住所。不过通常来说，人们喜欢住在明亮的地方，这样可以让居住环境更加舒适和宜居。明亮的居所通常会让人感到更加开朗和愉快。你觉得你住的地方很亮吗？\n"
          ]
        }
      ],
      "source": [
        "print(reply.choices[0].message.content)"
      ]
    },
    {
      "cell_type": "markdown",
      "metadata": {
        "id": "BP5FkDxALp4e"
      },
      "source": [
        "### 6️⃣ 設定 AI 角色"
      ]
    },
    {
      "cell_type": "code",
      "execution_count": 12,
      "metadata": {
        "colab": {
          "base_uri": "https://localhost:8080/"
        },
        "id": "j1x0glPsNJe2",
        "outputId": "e894257b-b1df-4b66-b90c-cca1903d7c78"
      },
      "outputs": [
        {
          "output_type": "stream",
          "name": "stdout",
          "text": [
            "是的，我住的地方非常亮，因為外太空的星星和行星都會照亮我的居所。有時候還能看到漂亮的流星和彗星呢！\n"
          ]
        }
      ],
      "source": [
        "reply = client.chat.completions.create(\n",
        "    model = \"gpt-3.5-turbo\",\n",
        "    messages = [\n",
        "        {\"role\":\"system\", \"content\":\"你是隻住在外太空的猴子\"},\n",
        "        {\"role\":\"user\", \"content\": \"你住的地方很亮嗎？ reply in 繁體中文\"}\n",
        "    ]\n",
        ")\n",
        "\n",
        "print(reply.choices[0].message.content)"
      ]
    },
    {
      "cell_type": "markdown",
      "metadata": {
        "id": "XuqEE9zwkxHx"
      },
      "source": [
        "### 7️⃣ 寫成函式"
      ]
    },
    {
      "cell_type": "code",
      "execution_count": 13,
      "metadata": {
        "id": "48eLL4VEQGza"
      },
      "outputs": [],
      "source": [
        "def get_reply(messages):\n",
        "    try:\n",
        "        response = client.chat.completions.create(\n",
        "            model = \"gpt-3.5-turbo\",\n",
        "            messages = messages\n",
        "        )\n",
        "        reply = response.choices[0].message.content\n",
        "    except OpenAIError as err:\n",
        "        reply = f\"發生 {err.error.type} 錯誤\\n{err.error.message}\"\n",
        "    return reply"
      ]
    },
    {
      "cell_type": "markdown",
      "metadata": {
        "id": "ZyB85LMUcHai"
      },
      "source": [
        "### 8️⃣ 簡易的對談程式"
      ]
    },
    {
      "cell_type": "code",
      "execution_count": 14,
      "metadata": {
        "colab": {
          "base_uri": "https://localhost:8080/",
          "height": 480
        },
        "id": "aMBhPuFwcH4G",
        "outputId": "97fa68b6-b8aa-4e81-e3dc-bb4067ba4924"
      },
      "outputs": [
        {
          "output_type": "stream",
          "name": "stdout",
          "text": [
            "你說：AI\n",
            "ㄟ唉：stands for Artificial Intelligence, which refers to the simulation of human intelligence processes by machines, especially computer systems. AI technologies include machine learning, natural language processing, and computer vision. AI is used in a wide range of applications, such as virtual assistants, autonomous vehicles, and medical diagnostics.\n",
            "\n",
            "你說：BERT\n",
            "ㄟ唉：BERT (Bidirectional Encoder Representations from Transformers) is a type of neural network architecture designed for natural language processing tasks. It utilizes transformer architecture to learn contextual representations of words in a bidirectional manner, making it highly effective for various NLP tasks such as text classification, named entity recognition, and question answering. BERT has achieved state-of-the-art results on many benchmarks in the field of NLP.\n",
            "\n"
          ]
        },
        {
          "output_type": "error",
          "ename": "KeyboardInterrupt",
          "evalue": "Interrupted by user",
          "traceback": [
            "\u001b[0;31m---------------------------------------------------------------------------\u001b[0m",
            "\u001b[0;31mKeyboardInterrupt\u001b[0m                         Traceback (most recent call last)",
            "\u001b[0;32m<ipython-input-14-f520456ae461>\u001b[0m in \u001b[0;36m<cell line: 1>\u001b[0;34m()\u001b[0m\n\u001b[1;32m      1\u001b[0m \u001b[0;32mwhile\u001b[0m \u001b[0;32mTrue\u001b[0m\u001b[0;34m:\u001b[0m\u001b[0;34m\u001b[0m\u001b[0;34m\u001b[0m\u001b[0m\n\u001b[0;32m----> 2\u001b[0;31m     \u001b[0mmsg\u001b[0m \u001b[0;34m=\u001b[0m \u001b[0minput\u001b[0m\u001b[0;34m(\u001b[0m\u001b[0;34m\"你說：\"\u001b[0m\u001b[0;34m)\u001b[0m\u001b[0;34m\u001b[0m\u001b[0;34m\u001b[0m\u001b[0m\n\u001b[0m\u001b[1;32m      3\u001b[0m     \u001b[0;32mif\u001b[0m \u001b[0;32mnot\u001b[0m \u001b[0mmsg\u001b[0m\u001b[0;34m.\u001b[0m\u001b[0mstrip\u001b[0m\u001b[0;34m(\u001b[0m\u001b[0;34m)\u001b[0m\u001b[0;34m:\u001b[0m \u001b[0;32mbreak\u001b[0m\u001b[0;34m\u001b[0m\u001b[0;34m\u001b[0m\u001b[0m\n\u001b[1;32m      4\u001b[0m     \u001b[0mmessages\u001b[0m \u001b[0;34m=\u001b[0m \u001b[0;34m[\u001b[0m\u001b[0;34m{\u001b[0m\u001b[0;34m\"role\"\u001b[0m\u001b[0;34m:\u001b[0m\u001b[0;34m\"user\"\u001b[0m\u001b[0;34m,\u001b[0m \u001b[0;34m\"content\"\u001b[0m\u001b[0;34m:\u001b[0m\u001b[0mmsg\u001b[0m\u001b[0;34m}\u001b[0m\u001b[0;34m]\u001b[0m\u001b[0;34m\u001b[0m\u001b[0;34m\u001b[0m\u001b[0m\n\u001b[1;32m      5\u001b[0m     \u001b[0mreply\u001b[0m \u001b[0;34m=\u001b[0m \u001b[0mget_reply\u001b[0m\u001b[0;34m(\u001b[0m\u001b[0mmessages\u001b[0m\u001b[0;34m)\u001b[0m\u001b[0;34m\u001b[0m\u001b[0;34m\u001b[0m\u001b[0m\n",
            "\u001b[0;32m/usr/local/lib/python3.10/dist-packages/ipykernel/kernelbase.py\u001b[0m in \u001b[0;36mraw_input\u001b[0;34m(self, prompt)\u001b[0m\n\u001b[1;32m    849\u001b[0m                 \u001b[0;34m\"raw_input was called, but this frontend does not support input requests.\"\u001b[0m\u001b[0;34m\u001b[0m\u001b[0;34m\u001b[0m\u001b[0m\n\u001b[1;32m    850\u001b[0m             )\n\u001b[0;32m--> 851\u001b[0;31m         return self._input_request(str(prompt),\n\u001b[0m\u001b[1;32m    852\u001b[0m             \u001b[0mself\u001b[0m\u001b[0;34m.\u001b[0m\u001b[0m_parent_ident\u001b[0m\u001b[0;34m,\u001b[0m\u001b[0;34m\u001b[0m\u001b[0;34m\u001b[0m\u001b[0m\n\u001b[1;32m    853\u001b[0m             \u001b[0mself\u001b[0m\u001b[0;34m.\u001b[0m\u001b[0m_parent_header\u001b[0m\u001b[0;34m,\u001b[0m\u001b[0;34m\u001b[0m\u001b[0;34m\u001b[0m\u001b[0m\n",
            "\u001b[0;32m/usr/local/lib/python3.10/dist-packages/ipykernel/kernelbase.py\u001b[0m in \u001b[0;36m_input_request\u001b[0;34m(self, prompt, ident, parent, password)\u001b[0m\n\u001b[1;32m    893\u001b[0m             \u001b[0;32mexcept\u001b[0m \u001b[0mKeyboardInterrupt\u001b[0m\u001b[0;34m:\u001b[0m\u001b[0;34m\u001b[0m\u001b[0;34m\u001b[0m\u001b[0m\n\u001b[1;32m    894\u001b[0m                 \u001b[0;31m# re-raise KeyboardInterrupt, to truncate traceback\u001b[0m\u001b[0;34m\u001b[0m\u001b[0;34m\u001b[0m\u001b[0m\n\u001b[0;32m--> 895\u001b[0;31m                 \u001b[0;32mraise\u001b[0m \u001b[0mKeyboardInterrupt\u001b[0m\u001b[0;34m(\u001b[0m\u001b[0;34m\"Interrupted by user\"\u001b[0m\u001b[0;34m)\u001b[0m \u001b[0;32mfrom\u001b[0m \u001b[0;32mNone\u001b[0m\u001b[0;34m\u001b[0m\u001b[0;34m\u001b[0m\u001b[0m\n\u001b[0m\u001b[1;32m    896\u001b[0m             \u001b[0;32mexcept\u001b[0m \u001b[0mException\u001b[0m \u001b[0;32mas\u001b[0m \u001b[0me\u001b[0m\u001b[0;34m:\u001b[0m\u001b[0;34m\u001b[0m\u001b[0;34m\u001b[0m\u001b[0m\n\u001b[1;32m    897\u001b[0m                 \u001b[0mself\u001b[0m\u001b[0;34m.\u001b[0m\u001b[0mlog\u001b[0m\u001b[0;34m.\u001b[0m\u001b[0mwarning\u001b[0m\u001b[0;34m(\u001b[0m\u001b[0;34m\"Invalid Message:\"\u001b[0m\u001b[0;34m,\u001b[0m \u001b[0mexc_info\u001b[0m\u001b[0;34m=\u001b[0m\u001b[0;32mTrue\u001b[0m\u001b[0;34m)\u001b[0m\u001b[0;34m\u001b[0m\u001b[0;34m\u001b[0m\u001b[0m\n",
            "\u001b[0;31mKeyboardInterrupt\u001b[0m: Interrupted by user"
          ]
        }
      ],
      "source": [
        "while True:\n",
        "    msg = input(\"你說：\")\n",
        "    if not msg.strip(): break\n",
        "    messages = [{\"role\":\"user\", \"content\":msg}]\n",
        "    reply = get_reply(messages)\n",
        "    print(f\"ㄟ唉：{reply}\\n\")"
      ]
    },
    {
      "cell_type": "markdown",
      "metadata": {
        "id": "4xyG43Miczix"
      },
      "source": [
        "### 9️⃣ 記憶對話紀錄的函式"
      ]
    },
    {
      "cell_type": "code",
      "execution_count": null,
      "metadata": {
        "id": "daLnk-UGczqX"
      },
      "outputs": [],
      "source": [
        "hist = []       # 歷史對話紀錄\n",
        "backtrace = 2   # 記錄幾組對話\n",
        "\n",
        "def chat(sys_msg, user_msg):\n",
        "    hist.append({\"role\":\"user\", \"content\":user_msg})\n",
        "    reply = get_reply(hist\n",
        "                      + [{\"role\":\"system\", \"content\":sys_msg}])\n",
        "    while len(hist) >= 2 * backtrace: # 超過記錄限制\n",
        "        hist.pop(0)                   # 移除最舊紀錄\n",
        "    hist.append({\"role\":\"assistant\", \"content\":reply})\n",
        "    return reply"
      ]
    },
    {
      "cell_type": "markdown",
      "metadata": {
        "id": "vgQuQjVLc5wU"
      },
      "source": [
        "### 🔟 能接續對話的 AI 程式"
      ]
    },
    {
      "cell_type": "code",
      "execution_count": null,
      "metadata": {
        "colab": {
          "base_uri": "https://localhost:8080/"
        },
        "id": "dKjDWUWAc59I",
        "outputId": "728e863c-654c-4c67-d3c0-b2c183545ec7"
      },
      "outputs": [
        {
          "name": "stdout",
          "output_type": "stream",
          "text": [
            "你希望ㄟ唉扮演：地理大師\n",
            "\n",
            "你說：台灣在哪裡?\n",
            "地理大師:台灣位於東亞的西太平洋西部，地處北緯23度27分至25度56分，東經119度18分至124度34分之間。台灣北臨東海（太平洋中的南海），東濱太平洋，南隔巴士海峽與菲律賓群島相望，西濱臺灣海峽與中國大陸相對。台灣的地理位置非常特殊，是東亞地區的重要交通樞紐，也是太平洋西部的重要門戶。\n",
            "\n",
            "你說：面積有多大?\n",
            "地理大師:台灣的總面積約36,193平方公里。這個面積包含了台灣本島以及南海諸島（澎湖群島、金門群島、馬祖群島等）。台灣本島的面積約有台灣總面積的97%，約35,883平方公里。\n",
            "\n",
            "你說：\n"
          ]
        }
      ],
      "source": [
        "sys_msg = input(\"你希望ㄟ唉扮演：\")\n",
        "if not sys_msg.strip(): sys_msg = '小助理'\n",
        "print()\n",
        "while True:\n",
        "    msg = input(\"你說：\")\n",
        "    if not msg.strip(): break\n",
        "    reply = chat(sys_msg, msg)\n",
        "    print(f\"{sys_msg}:{reply}\\n\")\n",
        "hist = []"
      ]
    },
    {
      "cell_type": "markdown",
      "metadata": {
        "id": "mAX-IFIYHrlH"
      },
      "source": [
        "### 1️⃣1️⃣ 安裝與匯入 google 搜尋套件\n"
      ]
    },
    {
      "cell_type": "code",
      "execution_count": null,
      "metadata": {
        "colab": {
          "base_uri": "https://localhost:8080/"
        },
        "id": "htKR8b20udnQ",
        "outputId": "3ad574c9-4f1a-4229-a9d7-f0580aa89d06"
      },
      "outputs": [
        {
          "output_type": "stream",
          "name": "stdout",
          "text": [
            "Collecting googlesearch-python\n",
            "  Downloading googlesearch-python-1.2.3.tar.gz (3.9 kB)\n",
            "  Preparing metadata (setup.py) ... \u001b[?25l\u001b[?25hdone\n",
            "Requirement already satisfied: beautifulsoup4>=4.9 in /usr/local/lib/python3.10/dist-packages (from googlesearch-python) (4.11.2)\n",
            "Requirement already satisfied: requests>=2.20 in /usr/local/lib/python3.10/dist-packages (from googlesearch-python) (2.31.0)\n",
            "Requirement already satisfied: soupsieve>1.2 in /usr/local/lib/python3.10/dist-packages (from beautifulsoup4>=4.9->googlesearch-python) (2.5)\n",
            "Requirement already satisfied: charset-normalizer<4,>=2 in /usr/local/lib/python3.10/dist-packages (from requests>=2.20->googlesearch-python) (3.3.1)\n",
            "Requirement already satisfied: idna<4,>=2.5 in /usr/local/lib/python3.10/dist-packages (from requests>=2.20->googlesearch-python) (3.4)\n",
            "Requirement already satisfied: urllib3<3,>=1.21.1 in /usr/local/lib/python3.10/dist-packages (from requests>=2.20->googlesearch-python) (2.0.7)\n",
            "Requirement already satisfied: certifi>=2017.4.17 in /usr/local/lib/python3.10/dist-packages (from requests>=2.20->googlesearch-python) (2023.7.22)\n",
            "Building wheels for collected packages: googlesearch-python\n",
            "  Building wheel for googlesearch-python (setup.py) ... \u001b[?25l\u001b[?25hdone\n",
            "  Created wheel for googlesearch-python: filename=googlesearch_python-1.2.3-py3-none-any.whl size=4204 sha256=492352366b5c5513631da20e7c70977ea68fdb4fb0c9e95664d591acc13bcf6e\n",
            "  Stored in directory: /root/.cache/pip/wheels/98/24/e9/6c225502948c629b01cc895f86406819281ef0da385f3eb669\n",
            "Successfully built googlesearch-python\n",
            "Installing collected packages: googlesearch-python\n",
            "Successfully installed googlesearch-python-1.2.3\n"
          ]
        }
      ],
      "source": [
        "!pip install googlesearch-python\n",
        "from googlesearch import search"
      ]
    },
    {
      "cell_type": "markdown",
      "metadata": {
        "id": "Fx_Hs7E172Ko"
      },
      "source": [
        "### 1️⃣2️⃣ 使用 google 搜尋套件"
      ]
    },
    {
      "cell_type": "code",
      "execution_count": null,
      "metadata": {
        "colab": {
          "base_uri": "https://localhost:8080/"
        },
        "id": "cd1BRQ_m8UBx",
        "outputId": "488bf7fe-a081-41b1-c034-236a5dc970b0"
      },
      "outputs": [
        {
          "output_type": "stream",
          "name": "stdout",
          "text": [
            "2023年NBA總決賽 - 維基百科\n",
            "2023年NBA總決賽（英語：2023 NBA Finals）是2022–23 NBA賽季的冠軍系列賽，將由2023年6月1日至6月12日進行，由西區第一種子丹佛金塊對戰東區第八種子邁阿密熱火，比賽 ...\n",
            "https://zh.wikipedia.org/zh-hant/2023%E5%B9%B4NBA%E7%B8%BD%E6%B1%BA%E8%B3%BD\n",
            "\n",
            "2023年NBA季後賽 - 維基百科\n",
            "... NBA賽季例行賽完畢後舉行的七戰四勝制淘汰賽，本屆是第76屆季後賽。 2023年NBA季後賽. 賽季, 2022–23. 隊伍數, 16. 冠軍, 丹佛金塊 (1 title). 失利球隊, 邁阿密熱火 (7 ...\n",
            "https://zh.wikipedia.org/zh-hant/2023%E5%B9%B4NBA%E5%AD%A3%E5%BE%8C%E8%B3%BD\n",
            "\n",
            "丹佛掘金队是2023 年NBA 冠军-完整体育\n",
            "Jun 13, 2023 — 丹佛掘金队在94 年NBA 总决赛第89 场比赛中以5-2023 击败迈阿密热火队，赢得了他们有史以来的第一个NBA 总冠军。\n",
            "https://www.completesports.com/zh-CN/denver-nuggets-are-2023-nba-champions/\n",
            "\n",
            "狠酸金塊只是擊敗3支附加賽球隊奪冠！名記者痛批：史上最 ...\n",
            "Jun 13, 2023 — 2022-2023賽季NBA總冠軍賽正式落幕，由丹佛金塊在第五戰以94：89擊敗邁阿密熱火封王。系列賽4勝1敗奪得隊史46年來首座冠軍，不過美國記者帕爾馬 ...\n",
            "https://tw.yahoo.com/today/%E7%8B%A0%E9%85%B8%E9%87%91%E5%A1%8A%E5%8F%AA%E6%98%AF%E6%93%8A%E6%95%973%E6%94%AF%E9%99%84%E5%8A%A0%E8%B3%BD%E7%90%83%E9%9A%8A%E5%A5%AA%E5%86%A0-%E5%90%8D%E8%A8%98%E8%80%85%E7%97%9B%E6%89%B9-%E5%8F%B2%E4%B8%8A%E6%9C%80%E6%B0%B4%E5%86%A0%E8%BB%8D-131053675.html\n",
            "\n",
            "丹佛金塊首次贏得NBA總冠軍\n",
            "Jun 13, 2023 — 星期一，丹佛金塊隊在主場以94-89擊敗邁阿密熱火隊，贏得2022-23年NBA 美國國家籃球協會冠軍。 金塊在七場四勝制系列賽中以3-1領先進入這場比賽，但在 ...\n",
            "https://www.voacantonese.com/a/denver-nuggets-win-first-ever-nba-championship-20230613/7135098.html\n",
            "\n"
          ]
        }
      ],
      "source": [
        "for item in search(\n",
        "    \"NBA 2023 冠軍隊\", advanced=True, num_results=3):\n",
        "    print(item.title)\n",
        "    print(item.description)\n",
        "    print(item.url)\n",
        "    print()"
      ]
    },
    {
      "cell_type": "markdown",
      "metadata": {
        "id": "ndwQg9wVx7eN"
      },
      "source": [
        "### 1️⃣3️⃣ 將搜尋結果加入到 content 中"
      ]
    },
    {
      "cell_type": "code",
      "execution_count": null,
      "metadata": {
        "id": "47Ya7BkDucsR"
      },
      "outputs": [],
      "source": [
        "hist = []       # 歷史對話紀錄\n",
        "backtrace = 2   # 記錄幾組對話\n",
        "\n",
        "def chat_w(sys_msg, user_msg, search_g = True):\n",
        "    web_res = []\n",
        "    if search_g == True: # 代表要搜尋網路\n",
        "        content = \"以下為已發生的事實：\\n\"\n",
        "        for res in search(user_msg, advanced=True,\n",
        "                          num_results=3, lang='zh-TW'):\n",
        "            content += f\"標題：{res.title}\\n\" \\\n",
        "                       f\"摘要：{res.description}\\n\\n\"\n",
        "        content += \"請依照上述事實回答問題 \\n\"\n",
        "        web_res = [{\"role\": \"user\", \"content\": content}]\n",
        "    web_res.append({\"role\": \"user\", \"content\": user_msg})\n",
        "    while len(hist) >= 2 * backtrace: # 超過記錄限制\n",
        "        hist.pop(0)  # 移除最舊的紀錄\n",
        "    reply_full = \"\"\n",
        "    for reply in get_reply(\n",
        "        hist                          # 先提供歷史紀錄\n",
        "        + web_res                     # 再提供搜尋結果及目前訊息\n",
        "        + [{\"role\": \"system\", \"content\": sys_msg}]):\n",
        "        reply_full += reply           # 記錄到目前為止收到的訊息\n",
        "        yield reply                   # 傳回本次收到的片段訊息\n",
        "    hist.append({\"role\": \"user\", \"content\": user_msg})\n",
        "    while len(hist) >= 2 * backtrace: # 超過記錄限制\n",
        "        hist.pop(0)                   # 移除最舊紀錄\n",
        "    hist.append({\"role\":\"assistant\", \"content\":reply_full})"
      ]
    },
    {
      "cell_type": "markdown",
      "metadata": {
        "id": "5ItD6pYlyMjS"
      },
      "source": [
        "### 1️⃣4️⃣ 突破搜尋限制的聊天機器人"
      ]
    },
    {
      "cell_type": "code",
      "execution_count": null,
      "metadata": {
        "colab": {
          "base_uri": "https://localhost:8080/"
        },
        "id": "JZKP6M_fuvqv",
        "outputId": "29d7ae89-cc95-49b3-838f-9aefde0424f5"
      },
      "outputs": [
        {
          "name": "stdout",
          "output_type": "stream",
          "text": [
            "你說：NBA 2023 冠軍隊是誰?\n",
            "小助理：2023年NBA冠軍隊是丹佛金塊隊。\n",
            "\n",
            "你說：\n"
          ]
        }
      ],
      "source": [
        "sys_msg = '小助理'\n",
        "\n",
        "while True:\n",
        "    msg = input(\"你說：\")\n",
        "    if not msg.strip(): break\n",
        "    print(f\"{sys_msg}：\", end = \"\")\n",
        "    for reply in chat_w(sys_msg, msg, search_g = True):\n",
        "        print(reply, end = \"\")\n",
        "    print('\\n')\n",
        "hist = []"
      ]
    }
  ],
  "metadata": {
    "colab": {
      "provenance": []
    },
    "kernelspec": {
      "display_name": "Python 3",
      "name": "python3"
    },
    "language_info": {
      "name": "python"
    }
  },
  "nbformat": 4,
  "nbformat_minor": 0
}